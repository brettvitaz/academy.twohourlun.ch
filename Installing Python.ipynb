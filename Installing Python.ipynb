{
 "cells": [
  {
   "cell_type": "markdown",
   "metadata": {},
   "source": [
    "## Installing Python"
   ]
  },
  {
   "cell_type": "markdown",
   "metadata": {},
   "source": [
    "   - [Mac](#Mac)\n",
    "   - [Windows](#Windows)\n",
    "   - [Linux](#Linux)"
   ]
  },
  {
   "cell_type": "markdown",
   "metadata": {},
   "source": [
    "### Mac\n",
    "\n",
    "Select a [distribution of Python](#Where-to-get-Python), download, and run the installer. \n",
    "\n",
    "The Python.org distribution will be installed in `/Library/Frameworks/Python.framework/Versions/`. Each installed version is listed by its `major.minor` version number, and the executables for Python version 3.5.2 will be found in `/Library/Frameworks/Python.framework/Versions/3.5/bin`. Multiple Python versions can be readily installed and used in this way.\n",
    "\n",
    "The Anaconda distribution will be installed in `/anaconda/`, and the executables can be found in `/anaconda/bin/`. When installing as an unprivileged user, Anaconda will be installed into your home directory, with the same path structure otherwise (e.g. `/Users/Brett/anaconda/`). It is important to note that you will only be installing one version of Anaconda. The version of Python is determined at the time of download and managed by the `conda` package manager. Upgrading and switching versions is easy within the same major version (3.4 to 3.5), but creating a separate virtual environment is required for using a different major version. Luckily, this is pretty easy to do, but care should be taken to understand the concept of virtual environments and how to manage them; the topic will be discussed in depth later.\n",
    "\n",
    "The installer will automatically add this directory to your PATH by updating it to the file `~/.bash profile`. The PATH environment variable is a list of directories to instruct your shell where to search for executable files. This allows you to use Python from anywhere by just running `python` from the prompt. Directories in PATH are separated by a colon (`:`) and are read from left to right. This distinction is important, because it is possible to run the incorrect instance of Python or one if its tools. \n",
    "\n",
    "I need to support both major versions of Python, and I have found it useful to install both the Python.org and the Anaconda distributions. My `.bash profile` has the following directives for PATH:\n",
    "\n",
    "```bash\n",
    "# added by Anaconda installer\n",
    "export PATH=\"//anaconda/bin:${PATH}\"\n",
    "\n",
    "# Setting PATH for Python 2.7\n",
    "export PATH=\"/Library/Frameworks/Python.framework/Versions/2.7/bin:${PATH}\"\n",
    "\n",
    "# Setting PATH for Python 3.5\n",
    "export PATH=\"/Library/Frameworks/Python.framework/Versions/3.5/bin:${PATH}\"\n",
    "```\n",
    "\n",
    "Each line adds a directory to the beginning of the path, so the search order is Python 3.5 -> Python 2.7 -> Anaconda. You can view your current PATH by running: \n",
    "\n",
    "```bash\n",
    "echo $PATH ⏎\n",
    "\n",
    "/Library/Frameworks/Python.framework/Versions/3.5/bin:/Library/Frameworks/Python.framework/Versions/2.7/bin://anaconda/bin:/usr/local/bin:/usr/bin:/bin:/usr/sbin:/sbin\n",
    "```\n",
    "\n",
    "##### Supplemental information:\n",
    "\n",
    "OS X comes with Python 2 pre-installed in the directory `/System/Library/Frameworks/Python.framework/`. Even on the latest version of OS X (El Capitan, at the time of this writing), Python is a bit outdated. I recommend keeping up to date on your version of Python by installing the latest from Python.org."
   ]
  },
  {
   "cell_type": "markdown",
   "metadata": {},
   "source": [
    "### Windows\n",
    "\n",
    "The default Python.org download link will be the 32-bit version. You can follow this [link](https://www.python.org/downloads/windows/) for other Python versions for Windows. The default installer settings will install the application in your user directory. It is helpful to select \"Add Python to PATH\" to allow you to run Python from any directory. If you want to install Python for all users, you must click \"Customize installation\" and check \"Install for all users\" on the Advanced Settings page. The default installation directory for all users is `C:\\Program Files\\Python35\\`.\n",
    "\n",
    "The Anaconda distribution will be installed in `C:\\Anaconda3` for all users.\n",
    "\n",
    "The PATH environment variable is a list of directories to instruct your shell where to search for executable files. This allows you to use Python from anywhere by just running `python.exe` from the prompt. Directories in PATH are separated by a semi-colon (`;`) and are read from left to right. This distinction is important, because it is possible to run the incorrect instance of Python or one if its tools. Environment variables, like PATH, are found in `\"Control Panel\" > \"System\" > \"Advanced system settings\" > \"Environment Variables...\"`.\n",
    "\n",
    "I need to support both major versions of Python, and I have found it useful to install both the Python.org and the Anaconda distributions. My PATH environment variable looks like:\n",
    "\n",
    "```\n",
    "C:\\Program Files\\Python35\\Scripts\\;C:\\Program Files\\Python35\\;C:\\Anaconda3;C:\\Anaconda3\\Scripts;C:\\Anaconda3\\Library\\bin;(...)\n",
    "```\n",
    "\n",
    "You can view your current PATH by running:\n",
    "\n",
    "```\n",
    "echo %PATH% ⏎\n",
    "\n",
    "C:\\Program Files\\Python35\\Scripts\\;C:\\Program Files\\Python35\\;C:\\Anaconda3;C:\\Anaconda3\\Scripts;C:\\Anaconda3\\Library\\bin;C:\\Windows\\system32;C:\\Windows;C:\\Windows\\System32\\Wbem;C:\\Windows\\System32\\WindowsPowerShell\\v1.0\\;C:\\Anaconda3;C:\\Anaconda3\\Scripts;C:\\Anaconda3\\Library\\bin\n",
    "```"
   ]
  },
  {
   "cell_type": "markdown",
   "metadata": {},
   "source": [
    "### Linux\n",
    "\n",
    "For Linux distros, installing the latest version of Python is usually never straight forward, but there are a few ways to accomplish this.\n",
    "\n",
    "##### Package managers\n",
    "\n",
    "`apt-get` is a popular package management system which manages the installation of packages and their dependencies. In contrast, `dpkg` is package installer, which can be used to install individual packages, but will not find and download dependencies. These are both available on Debian and Ubuntu distros.\n",
    "\n",
    "To start simply, update your package list cache and install Python by running:\n",
    "\n",
    "```bash\n",
    "sudo apt-get update\n",
    "\n",
    "sudo apt-get install -y python python-pip\n",
    "\n",
    "sudo apt-get install -y python3 python3-pip\n",
    "```\n",
    "\n",
    "##### Building the latest versions\n",
    "\n",
    "If you are not content installing outdated versions from a repository, follow these advanced instructions to use `pyenv` to build any Python version from source (note that I have filled in the latest versions of Python 2 and 3):\n",
    "\n",
    "```bash\n",
    "sudo apt-get update\n",
    "\n",
    "sudo apt-get install -y --no-install-recommends git wget curl make build-essential libssl-dev zlib1g-dev libbz2-dev libreadline-dev libsqlite3-dev llvm libncurses5-dev libncursesw5-dev openssl ca-certificates\n",
    "\n",
    "curl -L https://raw.githubusercontent.com/yyuu/pyenv-installer/master/bin/pyenv-installer | bash\n",
    "\n",
    "cat > ~/.bash_pyenv <<EOF\n",
    "export PATH=\"$HOME/.pyenv/bin:\\$PATH\"\n",
    "eval \"\\$(pyenv init -)\"\n",
    "eval \"\\$(pyenv virtualenv-init -)\"\n",
    "EOF\n",
    "\n",
    "echo \". ~/.bash_pyenv\" >> ~/.bashrc\n",
    "\n",
    ". ~/.bash_pyenv\n",
    "\n",
    "pyenv install 2.7.12 \\\n",
    "&& pyenv global 2.7.12 \\\n",
    "&& pip2 install --upgrade pip setuptools virtualenv\n",
    "\n",
    "pyenv install 3.5.2 \\\n",
    "&& pyenv global 3.5.2 \\\n",
    "&& pip3 install --upgrade pip setuptools virtualenv\n",
    "```\n",
    "\n",
    "*Note: This is for advanced users. I recommend that you do not use this method if you do not understand what each line is doing.*\n"
   ]
  },
  {
   "cell_type": "code",
   "execution_count": null,
   "metadata": {
    "collapsed": true
   },
   "outputs": [],
   "source": []
  }
 ],
 "metadata": {
  "kernelspec": {
   "display_name": "Python 3",
   "language": "python",
   "name": "python3"
  },
  "language_info": {
   "codemirror_mode": {
    "name": "ipython",
    "version": 3
   },
   "file_extension": ".py",
   "mimetype": "text/x-python",
   "name": "python",
   "nbconvert_exporter": "python",
   "pygments_lexer": "ipython3",
   "version": "3.5.2"
  }
 },
 "nbformat": 4,
 "nbformat_minor": 0
}
