{
 "cells": [
  {
   "cell_type": "markdown",
   "metadata": {},
   "source": [
    "# Welcome\n",
    "\n",
    "Welcome to the [twohourlun.ch](http://academy.twohourlun.ch) programming academy. I hope that with this guide you not only learn how to program in Python, but get a thorough understanding of the details of effectively configuring your environment and using relevant tools."
   ]
  },
  {
   "cell_type": "markdown",
   "metadata": {},
   "source": [
    "## Table of contents\n",
    "\n",
    "1. [Introduction](#Introduction)\n",
    "  1. What is Python?\n",
    "  1. Why this academy?\n",
    "1. [Development Environment](environment.html)\n",
    "1. [Installing Python](installing.html)\n",
    "1. [Python Language](language.html)\n",
    "1. [TODOs](#TODOs)"
   ]
  },
  {
   "cell_type": "markdown",
   "metadata": {},
   "source": [
    "## Introduction"
   ]
  },
  {
   "cell_type": "markdown",
   "metadata": {},
   "source": [
    "### What is Python?\n",
    "\n",
    "Python is a \"batteries included\" programming language, available on a large, and ever increasing, number of environments. This means that Python comes with many useful and powerful tools built in. As a new developer, you will not have to identify and download libraries for common tasks like reading CSV files or running a simple HTTP server. This is not to say that you should rely solely on the standard library; there is a vast wealth of great libraries which you should explore. Some of these libraries will be introduced and discussed in detail later in this document."
   ]
  },
  {
   "cell_type": "markdown",
   "metadata": {},
   "source": [
    "### Why this academy?\n",
    "\n",
    "(I am writing this because...)"
   ]
  },
  {
   "cell_type": "code",
   "execution_count": null,
   "metadata": {
    "collapsed": true
   },
   "outputs": [],
   "source": []
  },
  {
   "cell_type": "markdown",
   "metadata": {},
   "source": [
    "### TODOs\n",
    "\n",
    "Here are some topics you can expect to see in the future:\n",
    "\n",
    "* Python language\n",
    "  * ~~Hello world~~\n",
    "  * conditions\n",
    "  * iterators\n",
    "  * comprehensions\n",
    "  * data structures\n",
    "  * type hinting\n",
    "  * functions\n",
    "    * lambdas\n",
    "  * functional programming\n",
    "    * map\n",
    "    * higher order functions\n",
    "    * passing functions as arguments\n",
    "    * decorators\n",
    "  * classes\n",
    "    * classes for java people (what they're not)\n",
    "      * privacy \n",
    "        * there isn't any\n",
    "        * ok, so there is a little, but it's not what you'd expect\n",
    "    * dunder methods\n",
    "    * properties\n",
    "    * inheritance\n",
    "      * super\n",
    "      * overriding\n",
    "      * abstract base classes\n",
    "* ~~Expanded installation instructions~~\n",
    "  * ~~More detailed operating specific instructions~~\n",
    "  * ~~Linux pyenv installation~~\n",
    "* Virtual environments\n",
    "* Libraries\n",
    "  * What are they?\n",
    "  * How to install?\n",
    "  * SQLAlchemy\n",
    "  * Alembic\n",
    "  * Flask\n",
    "  * Waitress\n",
    "  * Bottle\n",
    "  * UWSGI\n",
    "  * Celery\n",
    "  * Pandas\n",
    "  * Numpy\n",
    "  * wxPython\n",
    "  * BeautifulSoup\n",
    "* PYTHONPATH\n",
    "* PATH\n",
    "* Documenting your code\n",
    "  * Why?\n",
    "  * How?\n",
    "  * How much is necessary?\n",
    "* Unit testing\n",
    "  * unittest\n",
    "  * py.test\n",
    "  * TDD\n",
    "  * spying\n",
    "  * mocking\n",
    "  * monkey patching\n",
    "* Debugging\n",
    "* PyCharm\n",
    "  * Details about useful features\n",
    "* VCS\n",
    "  * git\n",
    "    * cloning\n",
    "    * committing\n",
    "    * pushing\n",
    "    * fetching\n",
    "    * pulling\n",
    "    * merging\n",
    "    * rebasing\n",
    "    * a practical guide to repo structure\n",
    "* Settings repo\n",
    "* Text editors\n",
    "  * Sublime\n",
    "  * vi[m]\n",
    "  * Visual Studio Code\n",
    "* Docker\n",
    "  * Jupyter notebook container"
   ]
  },
  {
   "cell_type": "code",
   "execution_count": null,
   "metadata": {
    "collapsed": true,
    "scrolled": true
   },
   "outputs": [],
   "source": []
  }
 ],
 "metadata": {
  "kernelspec": {
   "display_name": "Python 3",
   "language": "python",
   "name": "python3"
  },
  "language_info": {
   "codemirror_mode": {
    "name": "ipython",
    "version": 3
   },
   "file_extension": ".py",
   "mimetype": "text/x-python",
   "name": "python",
   "nbconvert_exporter": "python",
   "pygments_lexer": "ipython3",
   "version": "3.5.2"
  }
 },
 "nbformat": 4,
 "nbformat_minor": 0
}
