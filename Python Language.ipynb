{
 "cells": [
  {
   "cell_type": "markdown",
   "metadata": {},
   "source": [
    "## Python Language"
   ]
  },
  {
   "cell_type": "markdown",
   "metadata": {},
   "source": [
    "### Greeting protocol\n",
    "A student often starts with a simple program that implements the standard greeting protocol. Using this technique is a fantastic way to ensure that the development environment is installed properly, and that the programmer understands the basic language syntax and build procedure. You may find yourself writing similar programs when becoming familiar with new libraries or any new technology. We will look at a few ways to get started."
   ]
  },
  {
   "cell_type": "markdown",
   "metadata": {},
   "source": [
    "**The REPL**\n",
    "\n",
    "As described earlier, a REPL (read–eval–print loop) is an environment where you can execute commands, and the interpreter will give you immediate feedback. The most basic REPL is the Python application itself. To use it, just type `python3⏎` at your command prompt. You will see something similar to the following:\n",
    "\n",
    "```\n",
    "$ python3⏎\n",
    "\n",
    "Python 3.5.1 (v3.5.1:37a07cee5969, Dec  5 2015, 21:12:44) \n",
    "[GCC 4.2.1 (Apple Inc. build 5666) (dot 3)] on darwin\n",
    "Type \"help\", \"copyright\", \"credits\" or \"license\" for more information.\n",
    ">>> \n",
    "```\n",
    "\n",
    "To execute a command, enter the entire command and hit `enter` (`⏎`). Our first command will allow Python to announce itself:\n",
    "\n",
    "```python\n",
    ">>> print('Hello World!')⏎\n",
    "Hello World!\n",
    "```\n",
    "\n",
    "In addition to `print()`, a command that returns a value will have that value displayed on the following lines, as shown in the following example:\n",
    "\n",
    "```python\n",
    ">>> 'Hello World!'⏎\n",
    "'Hello World!'\n",
    "```\n",
    "\n",
    "In this case, the REPL is displaying the value of the executed command. You can see that it is different than the previous example in that the output is surrounded in quotes (`''`). This means that the output is representing a value type called `string`. Every value in Python has a specific type, and this will be discussed in the future.\n",
    "\n",
    "*Note: To exit the REPL, type `exit()⏎`. Mac and Linux have a keyboard shortcut, `<CTRL> d`, which will exit from, or logout of, most environments.*"
   ]
  },
  {
   "cell_type": "markdown",
   "metadata": {},
   "source": [
    "**Your first program**\n",
    "\n",
    "The REPL is a great learning playground, but it is unsuitable for writing complex programs. To keep it simple, and for an understanding of what happens when your program is run, it is good to start with a basic text editor instead of an IDE. Open up your favorite text editor and we will learn how to write an actual program. Enter the following and save the file as `hello.py`.\n",
    "\n",
    "```python\n",
    "print('Hello World!')\n",
    "\n",
    "```\n",
    "\n",
    "You can execute the program by running it with Python in the console:\n",
    "\n",
    "```bash\n",
    "$ python3 hello.py \n",
    "Hello World!\n",
    "```\n",
    "\n",
    "Congratulation! You have written your first, albeit not very useful, program! It is important to note that, in general, Python source files end in `.py` and are referred to as \"modules\".\n",
    "\n",
    "*Note: My preferred text editor, [Sublime Text](https://www.sublimetext.com/), is available on Mac, Windows, and Linux, and has a variety of great plugins that enhance its already impressive list of capabilities. Free alternatives like [Notepad++](https://notepad-plus-plus.org/), [Atom](https://atom.io/), and [vi/vim](http://www.vim.org/) are also highly regarded editors.*\n",
    "\n",
    "*Note on vim: Sometimes you will find yourself in vim and can't figure out how to exit the application. Do not panic, this is normal. Hit `ESC` twice to make sure you are in command mode, then type `:q⏎` to quit.*\n",
    "\n",
    "*Note on emacs: Sometimes you will find yourself in emacs and can't figure out how to exit the application. Do not panic, this is normal. Hit `<CTRL> x` then `<CTRL> c` to quit.*"
   ]
  },
  {
   "cell_type": "code",
   "execution_count": null,
   "metadata": {
    "collapsed": true
   },
   "outputs": [],
   "source": []
  }
 ],
 "metadata": {
  "kernelspec": {
   "display_name": "Python 3",
   "language": "python",
   "name": "python3"
  },
  "language_info": {
   "codemirror_mode": {
    "name": "ipython",
    "version": 3
   },
   "file_extension": ".py",
   "mimetype": "text/x-python",
   "name": "python",
   "nbconvert_exporter": "python",
   "pygments_lexer": "ipython3",
   "version": "3.5.2"
  }
 },
 "nbformat": 4,
 "nbformat_minor": 0
}
